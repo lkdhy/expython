{
 "cells": [
  {
   "cell_type": "markdown",
   "metadata": {},
   "source": [
    "### Python 的 [`Pillow`](https://pypi.org/project/pillow/) 库学习\n",
    "\n",
    "![](pillow-logo-dark-text.webp)\n",
    "\n",
    "[Pillow (PIL Fork) 10.2.0 documentation](https://pillow.readthedocs.io/en/stable/index.html#)"
   ]
  },
  {
   "cell_type": "markdown",
   "metadata": {},
   "source": [
    "#### `Image` 类"
   ]
  },
  {
   "cell_type": "markdown",
   "metadata": {},
   "source": [
    "##### 引入 `Image` 类"
   ]
  },
  {
   "cell_type": "code",
   "execution_count": 3,
   "metadata": {},
   "outputs": [],
   "source": [
    "from PIL import Image"
   ]
  },
  {
   "cell_type": "markdown",
   "metadata": {},
   "source": [
    "##### 打开一个图像文件"
   ]
  },
  {
   "cell_type": "code",
   "execution_count": 34,
   "metadata": {},
   "outputs": [],
   "source": [
    "im = Image.open('大悦城.jpeg')\n",
    "# try:\n",
    "#     im.verify()\n",
    "#     print('OK')\n",
    "# except:\n",
    "#     print('Oops')"
   ]
  },
  {
   "cell_type": "markdown",
   "metadata": {},
   "source": [
    "##### `Image` 类的常用属性"
   ]
  },
  {
   "cell_type": "code",
   "execution_count": 35,
   "metadata": {},
   "outputs": [
    {
     "data": {
      "text/plain": [
       "('JPEG', (3000, 2002), 'RGB')"
      ]
     },
     "execution_count": 35,
     "metadata": {},
     "output_type": "execute_result"
    }
   ],
   "source": [
    "im.format, im.size, im.mode"
   ]
  },
  {
   "cell_type": "markdown",
   "metadata": {},
   "source": [
    "##### 读取序列类图像文件（GIF、FLI……）"
   ]
  },
  {
   "cell_type": "markdown",
   "metadata": {},
   "source": [
    "##### 图像基本转换和保存\n",
    "\n",
    "- `Image.save(filename, format)`\n",
    "- `Image.convert(mode)`\n",
    "- `Image.thumbnail(size: tuple)`\n",
    "- `Image.resize(size: tuple)`\n",
    "- `Image.rotate(angle)`"
   ]
  },
  {
   "cell_type": "code",
   "execution_count": 39,
   "metadata": {},
   "outputs": [],
   "source": [
    "im = Image.open('大悦城.jpeg')\n",
    "# im.show('图片窗口打开临时文件') # On Windows, the image is opened with the standard PNG display utility\n",
    "im.save('大悦城_png.png')"
   ]
  },
  {
   "cell_type": "code",
   "execution_count": 42,
   "metadata": {},
   "outputs": [
    {
     "data": {
      "text/plain": [
       "(128, 85)"
      ]
     },
     "execution_count": 42,
     "metadata": {},
     "output_type": "execute_result"
    }
   ],
   "source": [
    "im2 = im.copy() # thumbnail 方法会改变原图\n",
    "im2.thumbnail((128, 128))\n",
    "# im2.show()\n",
    "im2.save('大悦城_TB_128.jpeg')\n",
    "im2.size"
   ]
  },
  {
   "cell_type": "code",
   "execution_count": 54,
   "metadata": {},
   "outputs": [
    {
     "data": {
      "text/plain": [
       "((3000, 2002), (1500, 700))"
      ]
     },
     "execution_count": 54,
     "metadata": {},
     "output_type": "execute_result"
    }
   ],
   "source": [
    "# resize 方法返回副本，不该改变原图\n",
    "im3 = im.resize((1500, 700))\n",
    "# im3.show()\n",
    "im3.save('大悦城_1500-700.png')\n",
    "im.size, im3.size"
   ]
  },
  {
   "cell_type": "code",
   "execution_count": 57,
   "metadata": {},
   "outputs": [
    {
     "data": {
      "text/plain": [
       "((3000, 2002), (3000, 2002))"
      ]
     },
     "execution_count": 57,
     "metadata": {},
     "output_type": "execute_result"
    }
   ],
   "source": [
    "# rotate 方法返回副本，不改变原图\n",
    "# 顺时针旋转30°，图片的 size 不变\n",
    "im_rotate = im.rotate(30)\n",
    "# im_rotate.show()\n",
    "im_rotate.save('大悦城_旋转30°.png')\n",
    "im.size, im_rotate.size"
   ]
  },
  {
   "cell_type": "markdown",
   "metadata": {},
   "source": [
    "##### `Image` 类图像像素和通道处理方法"
   ]
  },
  {
   "cell_type": "code",
   "execution_count": 62,
   "metadata": {},
   "outputs": [],
   "source": [
    "im = Image.open('大悦城.jpeg')\n",
    "r, g, b = im.split()\n",
    "type(r), type(g), type(b), r.mode\n",
    "# r.show()\n",
    "r.save('大悦城_R通道.png')"
   ]
  },
  {
   "cell_type": "code",
   "execution_count": 64,
   "metadata": {},
   "outputs": [],
   "source": [
    "im_merge = Image.merge('RGB', (b,g,r))\n",
    "# im_merge.show()\n",
    "im_merge.save('大悦城_BGR.png')"
   ]
  },
  {
   "cell_type": "markdown",
   "metadata": {},
   "source": [
    "#### 图像的过滤和增强"
   ]
  },
  {
   "cell_type": "markdown",
   "metadata": {},
   "source": [
    "##### `ImageFilter` 类：图像过滤"
   ]
  },
  {
   "cell_type": "code",
   "execution_count": 14,
   "metadata": {},
   "outputs": [],
   "source": [
    "from PIL import ImageFilter"
   ]
  },
  {
   "cell_type": "code",
   "execution_count": 70,
   "metadata": {},
   "outputs": [],
   "source": [
    "im = Image.open('大悦城.jpeg')\n",
    "om = im.filter(ImageFilter.CONTOUR)\n",
    "# om.show()\n",
    "om.save('大悦城_轮廓.png')\n",
    "\n",
    "om2 = im.filter(ImageFilter.EDGE_ENHANCE)\n",
    "# om2.show()\n",
    "om2.save('大悦城_边界加强.png')"
   ]
  },
  {
   "cell_type": "markdown",
   "metadata": {},
   "source": [
    "##### [`ImageEnhance` 类](https://pillow.readthedocs.io/en/stable/reference/ImageEnhance.html)：图像增强 "
   ]
  },
  {
   "cell_type": "code",
   "execution_count": 8,
   "metadata": {},
   "outputs": [],
   "source": [
    "from PIL import ImageEnhance\n",
    "\n",
    "im = Image.open('大悦城.jpeg')"
   ]
  },
  {
   "cell_type": "markdown",
   "metadata": {},
   "source": [
    "1. 亮度"
   ]
  },
  {
   "cell_type": "code",
   "execution_count": 7,
   "metadata": {},
   "outputs": [],
   "source": [
    "om_bright = ImageEnhance.Brightness(im).enhance(2.0)\n",
    "# om_bright.show()\n",
    "om_bright.save('大悦城_亮度增强_2.png')"
   ]
  },
  {
   "cell_type": "markdown",
   "metadata": {},
   "source": [
    "2. 对比度"
   ]
  },
  {
   "cell_type": "code",
   "execution_count": 10,
   "metadata": {},
   "outputs": [],
   "source": [
    "om_contrast = ImageEnhance.Contrast(im).enhance(2.0)\n",
    "om_contrast.show()\n",
    "om_contrast.save('大悦城_对比度增强_2.png')"
   ]
  },
  {
   "cell_type": "markdown",
   "metadata": {},
   "source": [
    "3. 颜色均衡"
   ]
  },
  {
   "cell_type": "code",
   "execution_count": 10,
   "metadata": {},
   "outputs": [],
   "source": [
    "om_color = ImageEnhance.Color(im).enhance(1.5)\n",
    "# om_color.show()\n",
    "om_color.save('大悦城_颜色均衡_1-5.png')"
   ]
  },
  {
   "cell_type": "markdown",
   "metadata": {},
   "source": [
    "4. 对比度"
   ]
  },
  {
   "cell_type": "code",
   "execution_count": 13,
   "metadata": {},
   "outputs": [],
   "source": [
    "om_sharpness = ImageEnhance.Sharpness(im).enhance(2.0)\n",
    "# om_sharpness.show()"
   ]
  }
 ],
 "metadata": {
  "kernelspec": {
   "display_name": "base",
   "language": "python",
   "name": "python3"
  },
  "language_info": {
   "codemirror_mode": {
    "name": "ipython",
    "version": 3
   },
   "file_extension": ".py",
   "mimetype": "text/x-python",
   "name": "python",
   "nbconvert_exporter": "python",
   "pygments_lexer": "ipython3",
   "version": "3.11.5"
  }
 },
 "nbformat": 4,
 "nbformat_minor": 2
}
