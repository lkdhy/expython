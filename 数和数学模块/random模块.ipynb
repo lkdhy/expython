{
 "cells": [
  {
   "cell_type": "markdown",
   "metadata": {},
   "source": [
    "### Python 内置 `random` 模块\n",
    "\n",
    "[random — Generate pseudo-random numbers](https://docs.python.org/3.12/library/random.html)"
   ]
  }
 ],
 "metadata": {
  "language_info": {
   "name": "python"
  }
 },
 "nbformat": 4,
 "nbformat_minor": 2
}
